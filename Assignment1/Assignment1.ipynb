{
 "cells": [
  {
   "cell_type": "markdown",
   "metadata": {
    "id": "GWCPCDvGW_cm"
   },
   "source": [
    "# Assignment 1\n",
    "\n",
    "\n",
    "You must submit your notebook by running `python3 -m autograder.cli.submission.submit Assignment1.ipynb` from your local repository.\n",
    "\n",
    "To write legible answers you will need to be familiar with both [Markdown](https://github.com/adam-p/markdown-here/wiki/Markdown-Cheatsheet) and [Latex](https://www.latex-tutorial.com/tutorials/amsmath/)\n",
    "\n",
    "Before you turn this problem in, make sure everything runs as expected. To do so, restart the kernel and run all cells (in the menubar, select Runtime→→Restart and run all).\n",
    "\n",
    "#### Show your work!\n",
    "Whenever you are asked to find the solution to a problem, be sure to also **show how you arrived** at your answer.\n",
    "\n",
    "Make sure you fill in any place that says \"YOUR CODE HERE\" or \"YOUR ANSWERS HERE\", as well as your name below:\n"
   ]
  },
  {
   "cell_type": "markdown",
   "metadata": {
    "id": "Hc-OUgRxWIPM"
   },
   "source": [
    "## Q1\n",
    "\n",
    "![figure](https://docs.google.com/drawings/d/e/2PACX-1vR3cNeZWfHNbPXRGyZrKazhI2WNM9wroJoAsshbD7LzwEBd4k0W_zu-T30_O_4iHC2qpKRxCRBA1IjV/pub?w=480&h=320)\n",
    "\n",
    "Which solution would the following search algorithms find to move from node *Start* to node *Goal* if run the algorithm on the search graph above? Break any ties alphabetically. Please give each answer in a form similar to this example: `[start, 'a', 'd', goal]`\n",
    "\n",
    "a. Breadth-First Search\n",
    "\n",
    "b. Depth-First Search\n",
    "\n",
    "c. Uniform Cost Search\n",
    "\n",
    "Explain by drawing an equivalent search tree for each of them. Draw the search trees graphically. A good way to do this is through [Google Drawings](https://docs.google.com/drawings)\n",
    "\n"
   ]
  },
  {
   "cell_type": "code",
   "execution_count": 249,
   "metadata": {},
   "outputs": [],
   "source": [
    "def question1():\n",
    "    \"\"\"\n",
    "    Description:\n",
    "    Link to search trees: https://docs.google.com/drawings/d/1k-A41p6TjizKqeFPfkNfq6LgeoAVXqXX6uh8z8h2EjE/edit?usp=sharing\n",
    "    \"\"\"\n",
    "    start = 'Start'\n",
    "    goal = 'Goal'\n",
    "    \n",
    "    a = [start, 'd', goal]\n",
    "    b = [start, 'a', 'b', 'c', goal]\n",
    "    c = [start, 'a', 'b', goal]\n",
    "    \n",
    "    return a, b, c"
   ]
  },
  {
   "cell_type": "markdown",
   "metadata": {
    "id": "2cCZFudXW_cp"
   },
   "source": [
    "## Q2\n",
    "Answer the following questions about the search problem shown in the figure below. Break any ties alphabetically. For the questions that ask for a path, please give your answers in a form similar to this example: `[start, 'a', 'd', goal]`. For questions `e` and `f`, please return either `True` or `False`.\n",
    "\n",
    "Start − a − d − Goal\n",
    "\n",
    "![figure](https://docs.google.com/drawings/d/e/2PACX-1vS4nUoOVGzXNZTHZLsY6wZ6VyjtPlA4mhcvWs-6mgwaeDwoMftqbYyytgBVmgOnqLoUGZbRt8cuQNfA/pub?w=640&h=480)\n",
    "\n",
    "What path would be returned for this search problem using each of the following graph search algorithms?\n",
    "\n",
    "a. Breadth-First Search\n",
    "\n",
    "b. Uniform Cost Search\n",
    "\n",
    "c. Depth-First Search\n",
    "\n",
    "d. A* Search (using an appropriate heuristic function). Explain what heuristic function you used.\n",
    "\n",
    "\n",
    "\n",
    "Consider the heuristics for this problem shown in the table below.\n",
    "\n",
    "|     State     |     h1     |     h2        |\n",
    "|---------------|------------|---------------|\n",
    "|     start     |     5      |     4         |\n",
    "|     a         |     3      |     2         |\n",
    "|     b         |     6      |     6         |\n",
    "|     c         |     2      |     1         |\n",
    "|     d         |     3      |     3         |\n",
    "|     goal      |     0      |     0         |\n",
    "\n",
    "\n",
    "e. Is h1 consistent?\n",
    "\n",
    "f. Is h2 consistent?"
   ]
  },
  {
   "cell_type": "code",
   "execution_count": 250,
   "metadata": {},
   "outputs": [],
   "source": [
    "def question2():\n",
    "    \"\"\"\n",
    "    Description:\n",
    "    A-D: Link to search trees: https://docs.google.com/drawings/d/1_t3gWQX00TqHXcljm0fPyrRO5uG_BzZZJm9JIy68rWE/edit?usp=sharing\n",
    "    D: I used h2, but changed h(a)=3 and h(c)=2 in order to make the heuristic consistent and admissible.\n",
    "    E: Not consistent; g(n)+h(n) decreases along the path at node A.\n",
    "    F: Not consistent; g(n)+h(n) decreases along the path at node A.\n",
    "    \"\"\"\n",
    "    start = 'Start'\n",
    "    goal = 'Goal'\n",
    "       \n",
    "    a = [start, goal] \n",
    "    b = [start, 'a', 'c', goal]\n",
    "    c = [start, 'a', 'b', 'd', goal]\n",
    "    d = [start, 'a', 'c', goal]\n",
    "    e = False\n",
    "    f = False\n",
    "    \n",
    "    return a, b, c, d, e, f"
   ]
  },
  {
   "cell_type": "markdown",
   "metadata": {
    "id": "_uecj_VM0l1a"
   },
   "source": [
    "## Chess \n",
    "The remaining questions in this assignment, as well as all the questions in the following assignment, will make use of Python's chess module.\n",
    "\n",
    "If you're not familiar with this, it would probably be beneficial to spend some time going over it before getting started with the rest of the assignment. The official documentation is one place to get started: `https://python-chess.readthedocs.io/en/latest/`\n"
   ]
  },
  {
   "cell_type": "markdown",
   "metadata": {},
   "source": [
    "## The Knight Errant Problem\n",
    "The knight begins their quest in the bottom left-hand corner of the board, the tile 'A1'. Their quest will end when they reach the upper right-hand corner of the board, the tile 'H8'. Along the way, the knight will pass through many other tiles on the board. \n",
    "\n",
    "For each of the following questions, implement the corresponding search algorithm and return the list of tiles visited, in order. In Python's chess module, each tile has an integer id corresponding to it, where `'A1' = 0`, `'A2' = 1`, etc, and they are really just treated as integers by the chess module. Each chess square is equivalent to a number ranging from `0` to `63`, going from left to right, one row at at a time.\n",
    "\n",
    "For example, the knight starting on tile `'A1' = 0` and moving through tiles `'A1' = 0`, `'B3' = 17`, and `'D2' = 11`, in that order, before finally reaching the destination `'F1' = 5` would be represented by the list `[0, 17, 11, 5]`. Please note, this conversion from `A1` to `0` happens automatically, so please just don't be confused if you added a chess Tile to your list and saw it as an integer when you print it out; it is really the same thing.\n",
    "\n",
    "As one final piece of advice, it is not necessary to invent any grand new functions here to help you interface with the chess board. If you have an idea for something and it seems like too much, there may very well be a built-in chess module function that can do it for you. Please have a look before diving in head-first.\n",
    "\n",
    "A function to check whether a given board meets the goal condition is provided here for you below:"
   ]
  },
  {
   "cell_type": "code",
   "execution_count": 251,
   "metadata": {},
   "outputs": [],
   "source": [
    "import chess\n",
    "\n",
    "def goal_reached(board: chess.Board, goal_position: chess.Square):\n",
    "    \"\"\"\n",
    "    This function informs us as to whether the goal condition has been met during our search\n",
    "\n",
    "    Parameters:\n",
    "    - board: the chess board that the knight is moving upon\n",
    "\n",
    "    Returns:\n",
    "    - True: if the knight is on the destination tile 'H8'\n",
    "    - False: otherwise\n",
    "    \"\"\"\n",
    "    p = board.piece_at(goal_position)\n",
    "    return p and p.piece_type == chess.KNIGHT and p.color == chess.WHITE"
   ]
  },
  {
   "cell_type": "markdown",
   "metadata": {},
   "source": [
    "## Q3\n",
    "Implement the **Breadth-First Search** (BFS) algorithm to find the order of **expanded** tiles (not the final path) for the the Knight Errant Problem.\n",
    "\n",
    "Break ties in the order given by `board.legal_moves`. Please give your answer in a form similar to this example: `[0, 31, 15, ..., 63]`"
   ]
  },
  {
   "cell_type": "code",
   "execution_count": 252,
   "metadata": {},
   "outputs": [],
   "source": [
    "def BFS(board: chess.Board, goal_position: chess.Square):\n",
    "    \"\"\"\n",
    "    This function implements the breath first search algorithm\n",
    "    \n",
    "    Parameters:\n",
    "    - board: the chess board that the knight is moving upon\n",
    "    \n",
    "    Returns:\n",
    "    A list containing the visited tile values in the order they were visited with starting tile\n",
    "    always being the first tile and the goal tile always being the last tile\n",
    "    \"\"\"\n",
    "    visited_nodes_in_order = []\n",
    "    visited_nodes_in_order.append(chess.A1)\n",
    "\n",
    "    possible_moves = {move: board.copy() for move in board.legal_moves}\n",
    "\n",
    "    while possible_moves:  \n",
    "        current_move = next(iter(possible_moves))           # get first key from dict\n",
    "        current_board = possible_moves.pop(current_move)    # get the corresponding board and pop from moves dictionary\n",
    "        \n",
    "        current_board.push(current_move)\n",
    "        current_board.turn = chess.WHITE\n",
    "\n",
    "        visited_nodes_in_order.append(current_move.to_square)\n",
    "\n",
    "        if current_move.to_square == goal_position:\n",
    "            break\n",
    "        \n",
    "        for valid_move in current_board.legal_moves:\n",
    "            # check that ending square is not already visited or not already in frontier from another move\n",
    "            if valid_move.to_square not in visited_nodes_in_order and valid_move.to_square not in [x.to_square for x in possible_moves.keys()]:\n",
    "                possible_moves.update({valid_move: current_board.copy()})\n",
    "                \n",
    "    return visited_nodes_in_order\n"
   ]
  },
  {
   "cell_type": "code",
   "execution_count": 253,
   "metadata": {},
   "outputs": [
    {
     "name": "stdout",
     "output_type": "stream",
     "text": [
      ". . . . . . . .\n",
      ". . . . . . . .\n",
      ". . . . . . . .\n",
      ". . . . . . . .\n",
      ". . . . . . . .\n",
      ". . . . . . . .\n",
      ". . . . . . . .\n",
      "N . . . . . . .\n",
      "[0, 17, 10, 34, 32, 27, 11, 2, 25, 20, 16, 4, 51, 49, 44, 40, 28, 24, 19, 42, 26, 37, 33, 21, 12, 5, 1, 8, 35, 30, 14, 3, 61, 57, 45, 41, 36, 59, 43, 54, 50, 38, 29, 22, 18, 13, 9, 52, 48, 47, 31, 15, 6, 55, 46, 62, 60, 39, 58, 56, 53, 23, 7, 63]\n",
      "a1, b3, c2, c5, a5, d4, d2, c1, b4, e3, a3, e1, d7, b7, e6, a6, e4, a4, d3, c6, c4, f5, b5, f3, e2, f1, b1, a2, d5, g4, g2, d1, f8, b8, f6, b6, e5, d8, d6, g7, c7, g5, f4, g3, c3, f2, b2, e7, a7, h6, h4, h2, g1, h7, g6, g8, e8, h5, c8, a8, f7, h3, h1, h8, "
     ]
    }
   ],
   "source": [
    "test_board = chess.Board(\"8/8/8/8/8/8/8/N7\")\n",
    "test_goal = chess.H8\n",
    "print(test_board)\n",
    "\n",
    "q3 = BFS(test_board, test_goal)\n",
    "print(q3)\n",
    "for move in q3:\n",
    "    print(chess.square_name(move), end=\", \")"
   ]
  },
  {
   "cell_type": "markdown",
   "metadata": {},
   "source": [
    "## Q4\n",
    "Implement the **Depth-First Search** (DFS) algorithm to find the order of **expanded** tiles (not the final path) for the the Knight Errant Problem.\n",
    "\n",
    "Break ties in the order given by `board.legal_moves`. Please give your answer in a form similar to this example: `[0, 31, 15, ..., 63]`"
   ]
  },
  {
   "cell_type": "code",
   "execution_count": 254,
   "metadata": {},
   "outputs": [],
   "source": [
    "def DFS(board: chess.Board, goal_position: chess.Square):\n",
    "    \"\"\"\n",
    "    This function implements the depth first search algorithm\n",
    "    \n",
    "    Parameters:\n",
    "    - board: the chess board that the knight is moving upon\n",
    "    \n",
    "    Returns:\n",
    "    A list containing the visited tile values in the order they were visited with starting tile\n",
    "    always being the first tile and the goal tile always being the last tile\n",
    "    \"\"\"\n",
    "    visited_nodes_in_order = []\n",
    "    visited_nodes_in_order.append(chess.A1)\n",
    "\n",
    "    possible_moves = {move: board.copy() for move in reversed(list(board.legal_moves))}\n",
    "\n",
    "    while possible_moves:  \n",
    "        current_move, current_board = possible_moves.popitem()    # get the corresponding board and pop last item from moves dictionary\n",
    "        \n",
    "        current_board.push(current_move)\n",
    "        current_board.turn = chess.WHITE\n",
    "\n",
    "        visited_nodes_in_order.append(current_move.to_square)\n",
    "\n",
    "        if current_move.to_square == goal_position:\n",
    "            break\n",
    "        \n",
    "        # reverse list so that it picks first new child\n",
    "        for valid_move in reversed(list(current_board.legal_moves)):\n",
    "            # check that ending square is not already visited\n",
    "            if valid_move.to_square not in visited_nodes_in_order:\n",
    "                possible_moves.update({valid_move: current_board.copy()})\n",
    "                \n",
    "    return visited_nodes_in_order\n"
   ]
  },
  {
   "cell_type": "code",
   "execution_count": 255,
   "metadata": {},
   "outputs": [
    {
     "name": "stdout",
     "output_type": "stream",
     "text": [
      ". . . . . . . .\n",
      ". . . . . . . .\n",
      ". . . . . . . .\n",
      ". . . . . . . .\n",
      ". . . . . . . .\n",
      ". . . . . . . .\n",
      ". . . . . . . .\n",
      "N . . . . . . .\n",
      "[0, 17, 34, 51, 61, 55, 45, 62, 52, 58, 48, 42, 59, 53, 63, 46, 36, 30, 47, 37, 54, 60, 50, 56, 41, 35, 29, 44, 38, 28, 43, 49, 32]\n",
      "a1, b3, c5, d7, f8, h7, f6, g8, e7, c8, a7, c6, d8, f7, h8, g6, e5, g4, h6, f5, g7, e8, c7, a8, b6, d5, f4, e6, g5, e4, d6, b7, a5, "
     ]
    }
   ],
   "source": [
    "test_board = chess.Board(\"8/8/8/8/8/8/8/N7\")\n",
    "test_goal = chess.A5\n",
    "print(test_board)\n",
    "\n",
    "q4 = DFS(test_board, test_goal)\n",
    "print(q4)\n",
    "for move in q4:\n",
    "    print(chess.square_name(move), end=\", \")"
   ]
  },
  {
   "cell_type": "markdown",
   "metadata": {
    "id": "LM0yg5nnW_cx"
   },
   "source": [
    "## Q5\n",
    "Implement the **A* Search** (Textbook Section 3.5.2) algorithm to find the **final path found** for the Knight Errant Problem.\n",
    "\n",
    "#### A* Search\n",
    "---\n",
    "The most widely known form of best-first search is called **A∗ search** (pronounced \"A-star search\"). It evaluates nodes by combining $g(n)$, the cost to reach the node, and $h(n)$, the cost to get from the node to the goal:\n",
    "\n",
    "\\begin{equation*}\n",
    "f(n) = g(n) + h(n) .\n",
    "\\end{equation*}\n",
    "\n",
    "Since $g(n)$ gives the path cost from the start node to node $n$, and $h(n)$ is the estimated cost of the cheapest path from n to the goal, we have\n",
    "\n",
    "\n",
    "$f(n)$= estimated cost of the cheapest solution through $n$ .\n",
    "\n",
    "**NOTE:**\n",
    "- If two positions are considered equally good choices, take the node that appears first in board.legal_moves\n",
    "- You may also find the built-in function `chess.square_knight_distance(a, b)` useful here\n"
   ]
  },
  {
   "cell_type": "code",
   "execution_count": 256,
   "metadata": {},
   "outputs": [],
   "source": [
    "from queue import PriorityQueue\n",
    "def a_star_search(board: chess.Board, goal_position: chess.Square):\n",
    "    \"\"\"\n",
    "    This function implements the A* search algorithm\n",
    "\n",
    "    Parameters:\n",
    "    - board: the chess board that the knight is moving upon\n",
    "\n",
    "    Returns:\n",
    "    A list containing the final path returned by A*, starting with the start tile's ID and ending with the goal tile's ID.\n",
    "    \"\"\"\n",
    "    optimal_path = []\n",
    "    possible_moves = []\n",
    "    possible_moves.append((0, chess.Move(chess.A1, chess.A1), board.copy()))\n",
    "    cost_so_far = {chess.A1: 0}         # track cost to each visited node so far\n",
    "    came_from = {chess.A1: None}        # track where each visited node came from, in order to backtrack\n",
    "\n",
    "    while possible_moves:\n",
    "        min_tuple = min(possible_moves, key=lambda x:x[0])      # pop min node\n",
    "        possible_moves.remove(min_tuple)\n",
    "\n",
    "        _, current_move, current_board = min_tuple\n",
    "                \n",
    "        current_board.push(current_move)\n",
    "        current_board.turn = chess.WHITE\n",
    "\n",
    "        # backtrack path once goal is found\n",
    "        if current_move.to_square == goal_position:\n",
    "            optimal_path.insert(0, goal_position)\n",
    "            temp = came_from[goal_position]\n",
    "            while temp != None:\n",
    "                optimal_path.insert(0, temp)\n",
    "                temp = came_from[temp]\n",
    "            break\n",
    "\n",
    "        # referenced A* code from redblobgames A* tutorial: https://www.redblobgames.com/pathfinding/a-star/introduction.html\n",
    "        for valid_move in current_board.legal_moves:\n",
    "\n",
    "            # add cost of path so far + cost to move to next square\n",
    "            current_cost = cost_so_far[current_move.to_square] + chess.square_knight_distance(current_move.to_square, valid_move.to_square)\n",
    "\n",
    "            # add or update move to cost dictionary\n",
    "            if valid_move.to_square not in cost_so_far or current_cost < cost_so_far[valid_move.to_square]:\n",
    "                cost_so_far[valid_move.to_square] = current_cost\n",
    "                priority = current_cost + chess.square_knight_distance(goal_position, valid_move.to_square)\n",
    "                \n",
    "                possible_moves.append((priority, valid_move, current_board.copy()))\n",
    "                came_from[valid_move.to_square] = valid_move.from_square\n",
    "        \n",
    "    \n",
    "    return optimal_path\n"
   ]
  },
  {
   "cell_type": "code",
   "execution_count": 257,
   "metadata": {},
   "outputs": [
    {
     "name": "stdout",
     "output_type": "stream",
     "text": [
      ". . . . . . . .\n",
      ". . . . . . . .\n",
      ". . . . . . . .\n",
      ". . . . . . . .\n",
      ". . . . . . . .\n",
      ". . . . . . . .\n",
      ". . . . . . . .\n",
      "N . . . . . . .\n",
      "[0, 17, 34, 51, 61, 46, 63]\n"
     ]
    }
   ],
   "source": [
    "test_board = chess.Board(\"8/8/8/8/8/8/8/N7\")\n",
    "test_goal = chess.H8\n",
    "print(test_board)\n",
    "\n",
    "q5 = a_star_search(test_board, test_goal)\n",
    "print(q5)\n"
   ]
  }
 ],
 "metadata": {
  "colab": {
   "collapsed_sections": [
    "Hc-OUgRxWIPM"
   ],
   "provenance": []
  },
  "kernelspec": {
   "display_name": ".venv",
   "language": "python",
   "name": "python3"
  },
  "language_info": {
   "codemirror_mode": {
    "name": "ipython",
    "version": 3
   },
   "file_extension": ".py",
   "mimetype": "text/x-python",
   "name": "python",
   "nbconvert_exporter": "python",
   "pygments_lexer": "ipython3",
   "version": "3.12.4"
  }
 },
 "nbformat": 4,
 "nbformat_minor": 1
}
